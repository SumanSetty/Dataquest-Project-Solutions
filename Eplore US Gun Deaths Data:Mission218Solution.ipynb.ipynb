{
 "cells": [
  {
   "cell_type": "markdown",
   "metadata": {},
   "source": [
    "# US Gun Deaths Data"
   ]
  },
  {
   "cell_type": "markdown",
   "metadata": {},
   "source": [
    "# Reading data"
   ]
  },
  {
   "cell_type": "code",
   "execution_count": 4,
   "metadata": {
    "collapsed": false
   },
   "outputs": [
    {
     "name": "stdout",
     "output_type": "stream",
     "text": [
      "[['', 'year', 'month', 'intent', 'police', 'sex', 'age', 'race', 'hispanic', 'place', 'education'], ['1', '2012', '01', 'Suicide', '0', 'M', '34', 'Asian/Pacific Islander', '100', 'Home', '4'], ['2', '2012', '01', 'Suicide', '0', 'F', '21', 'White', '100', 'Street', '3'], ['3', '2012', '01', 'Suicide', '0', 'M', '60', 'White', '100', 'Other specified', '4'], ['4', '2012', '02', 'Suicide', '0', 'M', '64', 'White', '100', 'Home', '4']]\n"
     ]
    }
   ],
   "source": [
    "import csv\n",
    "f = open(\"guns.csv\",\"r\")\n",
    "data = list(csv.reader(f))\n",
    "print(data[:5])"
   ]
  },
  {
   "cell_type": "markdown",
   "metadata": {},
   "source": [
    "# Remove headers"
   ]
  },
  {
   "cell_type": "code",
   "execution_count": 5,
   "metadata": {
    "collapsed": false
   },
   "outputs": [
    {
     "name": "stdout",
     "output_type": "stream",
     "text": [
      "HEADERS:\n",
      "['', 'year', 'month', 'intent', 'police', 'sex', 'age', 'race', 'hispanic', 'place', 'education'] \n",
      "\n",
      "DATA WITHOUT HEADERS:\n",
      "[['1', '2012', '01', 'Suicide', '0', 'M', '34', 'Asian/Pacific Islander', '100', 'Home', '4'], ['2', '2012', '01', 'Suicide', '0', 'F', '21', 'White', '100', 'Street', '3'], ['3', '2012', '01', 'Suicide', '0', 'M', '60', 'White', '100', 'Other specified', '4'], ['4', '2012', '02', 'Suicide', '0', 'M', '64', 'White', '100', 'Home', '4']] \n",
      "\n"
     ]
    }
   ],
   "source": [
    "# remove header\n",
    "headers = data[0]\n",
    "data = data[1:len(data)]\n",
    "print(\"HEADERS:\")\n",
    "print(headers, \"\\n\")\n",
    "print(\"DATA WITHOUT HEADERS:\")\n",
    "print(data[0:4], \"\\n\")"
   ]
  },
  {
   "cell_type": "markdown",
   "metadata": {},
   "source": [
    "# Gun deaths per year"
   ]
  },
  {
   "cell_type": "code",
   "execution_count": 6,
   "metadata": {
    "collapsed": false
   },
   "outputs": [
    {
     "data": {
      "text/plain": [
       "{'2012': 33563, '2013': 33636, '2014': 33599}"
      ]
     },
     "execution_count": 6,
     "metadata": {},
     "output_type": "execute_result"
    }
   ],
   "source": [
    "# count of incidents in each year\n",
    "years = []\n",
    "for row in data:\n",
    "    years.append(row[1])\n",
    "    \n",
    "    \n",
    "# year count\n",
    "year_counts = {}\n",
    "for each in years:\n",
    "    if each in year_counts:\n",
    "        year_counts[each] = year_counts[each] + 1\n",
    "    else:\n",
    "        year_counts[each] = 1\n",
    "\n",
    "year_counts   "
   ]
  },
  {
   "cell_type": "markdown",
   "metadata": {},
   "source": [
    "# Deaths count by year and month"
   ]
  },
  {
   "cell_type": "code",
   "execution_count": 7,
   "metadata": {
    "collapsed": false
   },
   "outputs": [
    {
     "data": {
      "text/plain": [
       "[datetime.datetime(2012, 1, 1, 0, 0),\n",
       " datetime.datetime(2012, 1, 1, 0, 0),\n",
       " datetime.datetime(2012, 1, 1, 0, 0),\n",
       " datetime.datetime(2012, 2, 1, 0, 0),\n",
       " datetime.datetime(2012, 2, 1, 0, 0)]"
      ]
     },
     "execution_count": 7,
     "metadata": {},
     "output_type": "execute_result"
    }
   ],
   "source": [
    "import datetime\n",
    "dates = []\n",
    "for row in data:\n",
    "    year = int(row[1])\n",
    "    month = int(row[2])\n",
    "    dates.append(datetime.datetime(year, month, day = 1))\n",
    "\n",
    "dates[:5]"
   ]
  },
  {
   "cell_type": "code",
   "execution_count": 8,
   "metadata": {
    "collapsed": false
   },
   "outputs": [
    {
     "data": {
      "text/plain": [
       "{datetime.datetime(2012, 1, 1, 0, 0): 2758,\n",
       " datetime.datetime(2012, 2, 1, 0, 0): 2357,\n",
       " datetime.datetime(2012, 3, 1, 0, 0): 2743,\n",
       " datetime.datetime(2012, 4, 1, 0, 0): 2795,\n",
       " datetime.datetime(2012, 5, 1, 0, 0): 2999,\n",
       " datetime.datetime(2012, 6, 1, 0, 0): 2826,\n",
       " datetime.datetime(2012, 7, 1, 0, 0): 3026,\n",
       " datetime.datetime(2012, 8, 1, 0, 0): 2954,\n",
       " datetime.datetime(2012, 9, 1, 0, 0): 2852,\n",
       " datetime.datetime(2012, 10, 1, 0, 0): 2733,\n",
       " datetime.datetime(2012, 11, 1, 0, 0): 2729,\n",
       " datetime.datetime(2012, 12, 1, 0, 0): 2791,\n",
       " datetime.datetime(2013, 1, 1, 0, 0): 2864,\n",
       " datetime.datetime(2013, 2, 1, 0, 0): 2375,\n",
       " datetime.datetime(2013, 3, 1, 0, 0): 2862,\n",
       " datetime.datetime(2013, 4, 1, 0, 0): 2798,\n",
       " datetime.datetime(2013, 5, 1, 0, 0): 2806,\n",
       " datetime.datetime(2013, 6, 1, 0, 0): 2920,\n",
       " datetime.datetime(2013, 7, 1, 0, 0): 3079,\n",
       " datetime.datetime(2013, 8, 1, 0, 0): 2859,\n",
       " datetime.datetime(2013, 9, 1, 0, 0): 2742,\n",
       " datetime.datetime(2013, 10, 1, 0, 0): 2808,\n",
       " datetime.datetime(2013, 11, 1, 0, 0): 2758,\n",
       " datetime.datetime(2013, 12, 1, 0, 0): 2765,\n",
       " datetime.datetime(2014, 1, 1, 0, 0): 2651,\n",
       " datetime.datetime(2014, 2, 1, 0, 0): 2361,\n",
       " datetime.datetime(2014, 3, 1, 0, 0): 2684,\n",
       " datetime.datetime(2014, 4, 1, 0, 0): 2862,\n",
       " datetime.datetime(2014, 5, 1, 0, 0): 2864,\n",
       " datetime.datetime(2014, 6, 1, 0, 0): 2931,\n",
       " datetime.datetime(2014, 7, 1, 0, 0): 2884,\n",
       " datetime.datetime(2014, 8, 1, 0, 0): 2970,\n",
       " datetime.datetime(2014, 9, 1, 0, 0): 2914,\n",
       " datetime.datetime(2014, 10, 1, 0, 0): 2865,\n",
       " datetime.datetime(2014, 11, 1, 0, 0): 2756,\n",
       " datetime.datetime(2014, 12, 1, 0, 0): 2857}"
      ]
     },
     "execution_count": 8,
     "metadata": {},
     "output_type": "execute_result"
    }
   ],
   "source": [
    "# date counts\n",
    "date_counts = {}\n",
    "for each in dates:\n",
    "    if each in date_counts:\n",
    "        date_counts[each] = date_counts[each] + 1\n",
    "    else:\n",
    "        date_counts[each] = 1\n",
    "date_counts"
   ]
  },
  {
   "cell_type": "markdown",
   "metadata": {},
   "source": [
    "# Deaths by Gender"
   ]
  },
  {
   "cell_type": "code",
   "execution_count": 10,
   "metadata": {
    "collapsed": false
   },
   "outputs": [
    {
     "name": "stdout",
     "output_type": "stream",
     "text": [
      "Count by Gender:\n",
      "{'F': 14449, 'M': 86349} \n",
      "\n"
     ]
    }
   ],
   "source": [
    "# sex count\n",
    "sex = [row[5] for row in data]\n",
    "sex_counts = {}\n",
    "for each in sex:\n",
    "    if each in sex_counts:\n",
    "        sex_counts[each] += 1\n",
    "    else:\n",
    "        sex_counts[each] = 1\n",
    "print(\"Count by Gender:\")\n",
    "print(sex_counts, \"\\n\")"
   ]
  },
  {
   "cell_type": "markdown",
   "metadata": {},
   "source": [
    "# Deaths by Race"
   ]
  },
  {
   "cell_type": "code",
   "execution_count": 11,
   "metadata": {
    "collapsed": false
   },
   "outputs": [
    {
     "name": "stdout",
     "output_type": "stream",
     "text": [
      "Count by Race:\n",
      "{'Black': 23296, 'Asian/Pacific Islander': 1326, 'Native American/Native Alaskan': 917, 'White': 66237, 'Hispanic': 9022} \n",
      "\n"
     ]
    }
   ],
   "source": [
    "# race count\n",
    "races = [row[7] for row in data]\n",
    "race_counts = {}\n",
    "for race in races:\n",
    "    if race in race_counts:\n",
    "        race_counts[race] += 1\n",
    "    else:\n",
    "        race_counts[race] = 1\n",
    "print(\"Count by Race:\")\n",
    "print(race_counts, \"\\n\")"
   ]
  },
  {
   "cell_type": "markdown",
   "metadata": {},
   "source": [
    "# Analysis:\n",
    "* Highest victims by gender are Males\n",
    "* Highest deaths by race are Whites and Blacks with least as Native \n"
   ]
  },
  {
   "cell_type": "markdown",
   "metadata": {},
   "source": [
    "# Reading 'Census' Dataset"
   ]
  },
  {
   "cell_type": "code",
   "execution_count": 12,
   "metadata": {
    "collapsed": false
   },
   "outputs": [
    {
     "name": "stdout",
     "output_type": "stream",
     "text": [
      "US CENSUS DATA:\n",
      "[['Id', 'Year', 'Id', 'Sex', 'Id', 'Hispanic Origin', 'Id', 'Id2', 'Geography', 'Total', 'Race Alone - White', 'Race Alone - Hispanic', 'Race Alone - Black or African American', 'Race Alone - American Indian and Alaska Native', 'Race Alone - Asian', 'Race Alone - Native Hawaiian and Other Pacific Islander', 'Two or More Races'], ['cen42010', 'April 1, 2010 Census', 'totsex', 'Both Sexes', 'tothisp', 'Total', '0100000US', '', 'United States', '308745538', '197318956', '44618105', '40250635', '3739506', '15159516', '674625', '6984195']] \n",
      "\n"
     ]
    }
   ],
   "source": [
    "# Census\n",
    "import csv\n",
    "f = open(\"census.csv\", \"r\")\n",
    "census = list(csv.reader(f))\n",
    "print(\"US CENSUS DATA:\")\n",
    "print(census, \"\\n\")"
   ]
  },
  {
   "cell_type": "markdown",
   "metadata": {},
   "source": [
    "# Computing gun deaths by race"
   ]
  },
  {
   "cell_type": "code",
   "execution_count": 13,
   "metadata": {
    "collapsed": false
   },
   "outputs": [
    {
     "name": "stdout",
     "output_type": "stream",
     "text": [
      "Race per Hundred Thousand: {'Black': 52.211988832784364, 'Asian/Pacific Islander': 17.313372033811998, 'Native American/Native Alaskan': 2.278224927383133, 'White': 21.453589395678975, 'Hispanic': 4.572292588047142} \n",
      "\n"
     ]
    }
   ],
   "source": [
    "# Race Counts per hundred thousand\n",
    "mapping = { \"Asian/Pacific Islander\":674625 + 6984195, \"Black\":44618105,\n",
    "          \"Native American/Native Alaskan\":40250635, \"Hispanic\":197318956,\n",
    "          \"White\":308745538 }\n",
    "race_per_hundredk = {}\n",
    "for i,j in race_counts.items():\n",
    "    race_per_hundredk[i] = (j/mapping[i])*100000\n",
    "print(\"Race per Hundred Thousand:\",race_per_hundredk, \"\\n\")"
   ]
  },
  {
   "cell_type": "markdown",
   "metadata": {},
   "source": [
    "# Computing gun deaths by 'Intent'"
   ]
  },
  {
   "cell_type": "code",
   "execution_count": 14,
   "metadata": {
    "collapsed": false
   },
   "outputs": [
    {
     "name": "stdout",
     "output_type": "stream",
     "text": [
      "Homicides Per Race per Hundred Thousand:\n",
      "{'Black': 43.7266441503959, 'Asian/Pacific Islander': 7.298774484842313, 'Native American/Native Alaskan': 0.8099251104982568, 'White': 2.9626339085748987, 'Hispanic': 2.8552755975457322} \n",
      "\n"
     ]
    }
   ],
   "source": [
    "# extract Homicide intent\n",
    "intents = [row[3] for row in data]\n",
    "races = [row[7] for row in data]\n",
    "\n",
    "homicide_race_counts = {}\n",
    "for i,race in enumerate(races):\n",
    "    if intents[i] == \"Homicide\":\n",
    "        if race in homicide_race_counts:\n",
    "            homicide_race_counts[race] += 1\n",
    "        else:\n",
    "            homicide_race_counts[race] = 1\n",
    "\n",
    "# mapping homicides\n",
    "for i,j in homicide_race_counts.items():\n",
    "    homicide_race_counts[i] = (j/mapping[i])*100000\n",
    "print(\"Homicides Per Race per Hundred Thousand:\")\n",
    "print(homicide_race_counts, \"\\n\")\n"
   ]
  },
  {
   "cell_type": "markdown",
   "metadata": {},
   "source": [
    "# Race with highest homicide rate"
   ]
  },
  {
   "cell_type": "code",
   "execution_count": 15,
   "metadata": {
    "collapsed": false
   },
   "outputs": [
    {
     "name": "stdout",
     "output_type": "stream",
     "text": [
      "Race with maximum Homicides:\n",
      "Black \n",
      "\n"
     ]
    }
   ],
   "source": [
    "# Max homicides by race\n",
    "homicide_race = [(v,k) for k, v in homicide_race_counts.items()]\n",
    "max_homicides_per_race = max(homicide_race)[1]\n",
    "print(\"Race with maximum Homicides:\")\n",
    "print(max_homicides_per_race,\"\\n\" )"
   ]
  },
  {
   "cell_type": "markdown",
   "metadata": {},
   "source": [
    "# Homicides per month"
   ]
  },
  {
   "cell_type": "code",
   "execution_count": 16,
   "metadata": {
    "collapsed": false
   },
   "outputs": [
    {
     "data": {
      "text/plain": [
       "{'01': 2829,\n",
       " '02': 2178,\n",
       " '03': 2780,\n",
       " '04': 2845,\n",
       " '05': 2976,\n",
       " '06': 3130,\n",
       " '07': 3269,\n",
       " '08': 3125,\n",
       " '09': 2966,\n",
       " '10': 2968,\n",
       " '11': 2919,\n",
       " '12': 3191}"
      ]
     },
     "execution_count": 16,
     "metadata": {},
     "output_type": "execute_result"
    }
   ],
   "source": [
    "# Homicides in every month\n",
    "homicide_in_months = {}\n",
    "for row in data:\n",
    "    if row[3] == \"Homicide\":\n",
    "        if row[2] in homicide_in_months:\n",
    "            homicide_in_months[row[2]] += 1\n",
    "        else:\n",
    "            homicide_in_months[row[2]] = 1\n",
    "homicide_in_months"
   ]
  },
  {
   "cell_type": "markdown",
   "metadata": {},
   "source": [
    "# Suicides by Age"
   ]
  },
  {
   "cell_type": "code",
   "execution_count": 17,
   "metadata": {
    "collapsed": false
   },
   "outputs": [
    {
     "name": "stdout",
     "output_type": "stream",
     "text": [
      "Count of suicides by age: {'11': 14, '71': 717, '90': 197, '26': 935, '51': 1338, '76': 532, '25': 883, '61': 1123, '52': 1334, '29': 846, '64': 967, '85': 418, '32': 824, '53': 1376, '88': 328, '36': 765, '91': 169, '50': 1248, '39': 812, '23': 949, '30': 832, '35': 810, '21': 864, '96': 35, '60': 1187, '15': 276, '77': 543, '27': 893, '98': 16, '73': 664, '9': 2, '57': 1226, '38': 836, '86': 394, '69': 799, '33': 782, '44': 979, '65': 910, '47': 1059, '19': 631, '14': 217, '59': 1196, '99': 5, '12': 54, '75': 633, '74': 618, '82': 493, '87': 298, '93': 100, '68': 755, '17': 432, '102': 2, '46': 1007, '13': 127, '22': 1012, '100': 1, '58': 1274, '72': 667, '89': 229, '10': 3, '45': 948, '63': 909, '49': 1218, '66': 857, '62': 917, '18': 556, '97': 18, '37': 821, '42': 934, '83': 516, '84': 453, '81': 524, '43': 1009, '56': 1343, '31': 870, '48': 1205, '41': 909, '80': 497, '101': 2, '28': 826, '67': 761, '70': 812, '34': 795, '16': 355, '40': 827, '92': 121, '79': 537, '94': 60, '95': 50, '20': 687, '24': 936, '78': 545, 'NA': 7, '54': 1390, '55': 1324} \n",
      "\n"
     ]
    }
   ],
   "source": [
    "# Suicide by age\n",
    "suicide_by_age = {}\n",
    "for row in data:\n",
    "    if row[3] == \"Suicide\":\n",
    "        if row[6] in suicide_by_age:\n",
    "            suicide_by_age[row[6]] += 1\n",
    "        else:\n",
    "            suicide_by_age[row[6]] = 1\n",
    "print(\"Count of suicides by age:\",suicide_by_age, \"\\n\")\n"
   ]
  },
  {
   "cell_type": "markdown",
   "metadata": {},
   "source": [
    "# Age with highest Suicide rate"
   ]
  },
  {
   "cell_type": "code",
   "execution_count": 18,
   "metadata": {
    "collapsed": false
   },
   "outputs": [
    {
     "name": "stdout",
     "output_type": "stream",
     "text": [
      "Sucide Maximum Age: 54 \n",
      "\n"
     ]
    }
   ],
   "source": [
    "# Age with highest Suicides\n",
    "suicide_age = [(v,k) for k,v in suicide_by_age.items()]\n",
    "max_suicide_age = max(suicide_age)[1]\n",
    "print(\"Sucide Maximum Age:\",max_suicide_age, \"\\n\")"
   ]
  },
  {
   "cell_type": "markdown",
   "metadata": {},
   "source": [
    "# Homicide by gender count"
   ]
  },
  {
   "cell_type": "code",
   "execution_count": 20,
   "metadata": {
    "collapsed": false
   },
   "outputs": [
    {
     "name": "stdout",
     "output_type": "stream",
     "text": [
      "Homicide Male Count: 29803 \n",
      "\n",
      "Homicide Female Count: 5373 \n",
      "\n"
     ]
    }
   ],
   "source": [
    "# Homicide gender count\n",
    "homicide_male_count = 0\n",
    "homicide_female_count = 0\n",
    "\n",
    "for row in data:\n",
    "    if row[3] == \"Homicide\":\n",
    "        if row[5] == \"M\":\n",
    "            homicide_male_count += 1\n",
    "        else:\n",
    "            homicide_female_count += 1\n",
    "print(\"Homicide Male Count:\", homicide_male_count, \"\\n\")\n",
    "print(\"Homicide Female Count:\", homicide_female_count, \"\\n\")"
   ]
  },
  {
   "cell_type": "markdown",
   "metadata": {},
   "source": [
    "# Homicides rate per year"
   ]
  },
  {
   "cell_type": "code",
   "execution_count": 21,
   "metadata": {
    "collapsed": false
   },
   "outputs": [
    {
     "name": "stdout",
     "output_type": "stream",
     "text": [
      "Homicide By Year\n",
      "{'2014': 11409, '2012': 12093, '2013': 11674} \n",
      "\n"
     ]
    }
   ],
   "source": [
    "# Homicide by year\n",
    "homicide_by_year = {}\n",
    "for row in data:\n",
    "    if row[3] == \"Homicide\":\n",
    "        if row[1] in homicide_by_year:\n",
    "            homicide_by_year[row[1]] += 1\n",
    "        else:\n",
    "            homicide_by_year[row[1]] = 1\n",
    "print(\"Homicide By Year\")\n",
    "print(homicide_by_year, \"\\n\")"
   ]
  },
  {
   "cell_type": "markdown",
   "metadata": {},
   "source": [
    "# Year with maximum homicides"
   ]
  },
  {
   "cell_type": "code",
   "execution_count": 22,
   "metadata": {
    "collapsed": false
   },
   "outputs": [
    {
     "name": "stdout",
     "output_type": "stream",
     "text": [
      "Year with Maximum Homicides: 2012 \n",
      "\n"
     ]
    }
   ],
   "source": [
    "#Max Homicide year\n",
    "homicides_year = [(v, k) for k,v in homicide_by_year.items()]\n",
    "max_homicides_year = max(homicides_year)[1]\n",
    "print(\"Year with Maximum Homicides:\", max_homicides_year, \"\\n\")"
   ]
  },
  {
   "cell_type": "markdown",
   "metadata": {},
   "source": [
    "# Homicides by Education"
   ]
  },
  {
   "cell_type": "code",
   "execution_count": 23,
   "metadata": {
    "collapsed": false
   },
   "outputs": [
    {
     "name": "stdout",
     "output_type": "stream",
     "text": [
      "Homicides count by education:\n",
      "{'5': 455, '2': 15649, '3': 5640, '4': 1559, 'NA': 34, '1': 11839} \n",
      "\n"
     ]
    }
   ],
   "source": [
    "# Homicides count by Education\n",
    "homicide_by_education_count = {}\n",
    "for row in data:\n",
    "    if row[3] == \"Homicide\":\n",
    "        if row[10] in homicide_by_education_count:\n",
    "            homicide_by_education_count[row[10]] += 1\n",
    "        else:\n",
    "            homicide_by_education_count[row[10]] = 1\n",
    "print(\"Homicides count by education:\")\n",
    "print(homicide_by_education_count, \"\\n\")"
   ]
  },
  {
   "cell_type": "markdown",
   "metadata": {},
   "source": [
    "# Highest education in all homicide cases"
   ]
  },
  {
   "cell_type": "code",
   "execution_count": 25,
   "metadata": {
    "collapsed": false
   },
   "outputs": [
    {
     "name": "stdout",
     "output_type": "stream",
     "text": [
      "Homicides with maximum education:\n",
      "5 \n",
      "\n"
     ]
    }
   ],
   "source": [
    "#Homicides with Max education\n",
    "\n",
    "homicide_edu = [(v,k) for k, v in homicide_by_education_count.items() if not k == \"NA\"]\n",
    "max_education_homicide = min(homicide_edu)[1]\n",
    "print(\"Homicides with maximum education:\")\n",
    "print(max_education_homicide, \"\\n\")\n"
   ]
  }
 ],
 "metadata": {
  "kernelspec": {
   "display_name": "Python 3",
   "language": "python",
   "name": "python3"
  },
  "language_info": {
   "codemirror_mode": {
    "name": "ipython",
    "version": 3
   },
   "file_extension": ".py",
   "mimetype": "text/x-python",
   "name": "python",
   "nbconvert_exporter": "python",
   "pygments_lexer": "ipython3",
   "version": "3.4.3"
  }
 },
 "nbformat": 4,
 "nbformat_minor": 0
}
